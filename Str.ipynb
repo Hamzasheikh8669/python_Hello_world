{
  "nbformat": 4,
  "nbformat_minor": 0,
  "metadata": {
    "colab": {
      "provenance": []
    },
    "kernelspec": {
      "name": "python3",
      "display_name": "Python 3"
    },
    "language_info": {
      "name": "python"
    }
  },
  "cells": [
    {
      "cell_type": "code",
      "execution_count": null,
      "metadata": {
        "colab": {
          "base_uri": "https://localhost:8080/"
        },
        "id": "-YtX-VToEmrE",
        "outputId": "6463c037-9ec7-4a27-a5a1-aa892ed7a15e"
      },
      "outputs": [
        {
          "output_type": "stream",
          "name": "stdout",
          "text": [
            "Hamza sheikh\n",
            "<class 'str'>\n",
            "132947413021808\n",
            "132947413024112\n"
          ]
        }
      ],
      "source": [
        "name:str = \"Hamza sheikh\"\n",
        "print(name)\n",
        "print(type(name))\n",
        "print(id(name))\n",
        "name1:str = \"Hamza sheikh\"\n",
        "print(id(name1))"
      ]
    },
    {
      "cell_type": "code",
      "source": [
        "# string concatenation text k sath dusry text ko j0orna\n",
        "name: str = \"Hamza\"\n",
        "age:int = 20\n",
        "dob:str = 2004-10/27"
      ],
      "metadata": {
        "id": "BagcMjd9IDs-"
      },
      "execution_count": null,
      "outputs": []
    },
    {
      "cell_type": "code",
      "source": [
        "data:str = \"Hello worl how are you\"\n",
        "print(data)"
      ],
      "metadata": {
        "id": "B5I1prSeIsJr"
      },
      "execution_count": null,
      "outputs": []
    },
    {
      "cell_type": "code",
      "source": [
        "data:str = \"Hello worl how are you\"\n",
        "print(data)"
      ],
      "metadata": {
        "id": "7WQhFrLGI-Fi"
      },
      "execution_count": null,
      "outputs": []
    },
    {
      "cell_type": "code",
      "source": [
        "# agar special character ki wjh se error arha ha tu uske agy back slash lagane se err solve hojyga\n",
        "\n",
        "data:str = 'Hello 'world\\' how are you'\n",
        "print(data)"
      ],
      "metadata": {
        "id": "VC8STTd9JCrG"
      },
      "execution_count": null,
      "outputs": []
    },
    {
      "cell_type": "code",
      "source": [
        "# agar multiple line likhna ma err arha ho tu first line k last ma back slash t lagaye..\n",
        "\n",
        "data:str = \"Hello worl how are you?\\\n",
        "hamza\"\n",
        "print(data)"
      ],
      "metadata": {
        "id": "RwUE1Z1iKZrS"
      },
      "execution_count": null,
      "outputs": []
    },
    {
      "cell_type": "code",
      "source": [
        "data:str = \"Hello world how are you\\\n",
        "\\npakistan \\t zindabd\"\n",
        "print(data)\n",
        "# display(data) ye withoout format k data dkhata ha"
      ],
      "metadata": {
        "id": "iBHhMkPhLBRG"
      },
      "execution_count": null,
      "outputs": []
    },
    {
      "cell_type": "code",
      "source": [
        "name:str = \"Hamza sheikh\"\n",
        "age:str int = 20\n",
        "dob = str 2004-10-28\n",
        "print(\"Hellow my name is\"+ name\"and i am \" age \"years old\")"
      ],
      "metadata": {
        "id": "FXhLsQn3MTzc"
      },
      "execution_count": null,
      "outputs": []
    },
    {
      "cell_type": "code",
      "source": [
        "name:str = \"Hamza sheikh\"\n",
        "age:str int = 20\n",
        "dob = str 2004-10-28\n",
        "print(\"my name is hamza {1} and i am {0} years old any my dob is {2}\" .format(name,age,dob))"
      ],
      "metadata": {
        "id": "xHweAFxaPrk6"
      },
      "execution_count": null,
      "outputs": []
    },
    {
      "cell_type": "code",
      "source": [
        "# f-string\n",
        "name:str = \"Hamza sheikh\"\n",
        "age:int = 20\n",
        "dob = str 2004-10-28\n",
        "print = f\"Hello my name is {name}and i am (age +1)years old\""
      ],
      "metadata": {
        "colab": {
          "base_uri": "https://localhost:8080/",
          "height": 106
        },
        "id": "a-I_jhcVQFG6",
        "outputId": "30411af8-9117-4323-dea2-a81a182a5ae8"
      },
      "execution_count": null,
      "outputs": [
        {
          "output_type": "error",
          "ename": "SyntaxError",
          "evalue": "invalid syntax (<ipython-input-8-da6636af2f71>, line 4)",
          "traceback": [
            "\u001b[0;36m  File \u001b[0;32m\"<ipython-input-8-da6636af2f71>\"\u001b[0;36m, line \u001b[0;32m4\u001b[0m\n\u001b[0;31m    dob = str 2004-10-28\u001b[0m\n\u001b[0m              ^\u001b[0m\n\u001b[0;31mSyntaxError\u001b[0m\u001b[0;31m:\u001b[0m invalid syntax\n"
          ]
        }
      ]
    },
    {
      "cell_type": "code",
      "source": [
        "name:str = \"Hamza sheikh\"\n",
        "age:str int = 20\n",
        "dob = str 2004-10-28\n",
        "salary:flaot = 45000.544\n",
        "message: str = f***hello, my name is {name}and my age is {age} and my dob is {dob} and my salary is {salary:.2f}\"\"\"\n",
        "\n",
        "print(message)"
      ],
      "metadata": {
        "colab": {
          "base_uri": "https://localhost:8080/",
          "height": 106
        },
        "id": "tyS-dcItQvvG",
        "outputId": "d1d09729-f6c7-4663-bf93-cbdc6763b3d9"
      },
      "execution_count": null,
      "outputs": [
        {
          "output_type": "error",
          "ename": "SyntaxError",
          "evalue": "invalid decimal literal (<ipython-input-11-92aa88adf62e>, line 5)",
          "traceback": [
            "\u001b[0;36m  File \u001b[0;32m\"<ipython-input-11-92aa88adf62e>\"\u001b[0;36m, line \u001b[0;32m5\u001b[0m\n\u001b[0;31m    message: str = f***hello , my name is {name}and my age is {age} and my dob is {dob} and my salary is {salary:.2f}\"\"\"\u001b[0m\n\u001b[0m                                                                                                                  ^\u001b[0m\n\u001b[0;31mSyntaxError\u001b[0m\u001b[0;31m:\u001b[0m invalid decimal literal\n"
          ]
        }
      ]
    },
    {
      "cell_type": "code",
      "source": [
        "# prompt: i want to teach python operators now create some steps for us\n",
        "\n",
        "# Python Operators\n",
        "\n",
        "# 1. Arithmetic Operators:\n",
        "#    - Addition (+)\n",
        "#    - Subtraction (-)\n",
        "#    - Multiplication (*)\n",
        "#    - Division (/)\n",
        "#    - Modulus (%)\n",
        "#    - Exponent (**)\n",
        "#    - Floor Division (//)\n",
        "\n",
        "# Example:\n",
        "a = 10\n",
        "b = 5\n",
        "print(a + b)  # Output: 15\n",
        "print(a - b)  # Output: 5\n",
        "print(a * b)  # Output: 50\n",
        "print(a / b)  # Output: 2.0\n",
        "print(a % b)  # Output: 0\n",
        "print(a ** b)  # Output: 100000\n",
        "print(a // b)  # Output: 2\n",
        "\n",
        "\n",
        "# 2. Comparison Operators:\n",
        "#    - Equal to (==)\n",
        "#    - Not equal to (!=)\n",
        "#    - Greater than (>)\n",
        "#    - Less than (<)\n",
        "#    - Greater than or equal to (>=)\n",
        "#    - Less than or equal to (<=)\n",
        "\n",
        "# Example:\n",
        "a = 10\n",
        "b = 5\n",
        "print(a == b)  # Output: False\n",
        "print(a != b)  # Output: True\n",
        "print(a > b)   # Output: True\n",
        "print(a < b)   # Output: False\n",
        "print(a >= b)  # Output: True\n",
        "print(a <= b)  # Output: False\n",
        "\n",
        "\n",
        "# 3. Logical Operators:\n",
        "#    - and\n",
        "#    - or\n",
        "#    - not\n",
        "\n",
        "# Example:\n",
        "a = True\n",
        "b = False\n",
        "print(a and b)  # Output: False\n",
        "print(a or b)   # Output: True\n",
        "print(not a)    # Output: False\n",
        "\n",
        "\n",
        "# 4. Assignment Operators:\n",
        "#    - Assign (=)\n",
        "#    - Add and assign (+=)\n",
        "#    - Subtract and assign (-=)\n",
        "#    - Multiply and assign (*=)\n",
        "#    - Divide and assign (/=)\n",
        "#    - Modulus and assign (%=)\n",
        "#    - Exponent and assign (**=)\n",
        "#    - Floor division and assign (//=)\n",
        "\n",
        "# Example:\n",
        "a = 10\n",
        "a += 5  # Equivalent to a = a + 5\n",
        "print(a)  # Output: 15\n",
        "\n",
        "\n",
        "# 5. Bitwise Operators:\n",
        "#    - Bitwise AND (&)\n",
        "#    - Bitwise OR (|)\n",
        "#    - Bitwise XOR (^)\n",
        "#    - Bitwise NOT (~)\n",
        "#    - Left shift (<<)\n",
        "#    - Right shift (>>)\n",
        "\n",
        "# Example:\n",
        "a = 10  # Binary: 1010\n",
        "b = 5   # Binary: 0101\n",
        "print(a & b)  # Output: 0 (Binary: 0000)\n",
        "print(a | b)  # Output: 15 (Binary: 1111)\n",
        "print(a ^ b)  # Output: 15 (Binary: 1111)\n",
        "print(~a)   # Output: -11 (Binary: -1011)\n",
        "print(a << 2) # Output: 40 (Binary: 101000)\n",
        "print(a >> 2) # Output: 2 (Binary: 0010)\n",
        "\n",
        "\n",
        "# 6. Membership Operators:\n",
        "#    - in\n",
        "#    - not in\n",
        "\n",
        "# Example:\n",
        "my_list = [1, 2, 3, 4, 5]\n",
        "print(3 in my_list)  # Output: True\n",
        "print(6 not in my_list)  # Output: True\n",
        "\n",
        "\n",
        "# 7. Identity Operators:\n",
        "#    - is\n",
        "#    - is not\n",
        "\n",
        "# Example:\n",
        "a = 10\n",
        "b = 10\n",
        "print(a is b)  # Output: True (Both a and b refer to the same object)\n"
      ],
      "metadata": {
        "id": "vshFafW9eUok"
      },
      "execution_count": null,
      "outputs": []
    },
    {
      "cell_type": "code",
      "source": [
        "a = 10\n",
        "b = 5\n",
        "print(a == b)  # Output: False\n",
        "print(a != b)  # Output: True\n",
        "print(a > b)   # Output: True\n",
        "print(a < b)   # Output: False\n",
        "print(a >= b)  # Output: True\n",
        "print(a <= b)  # Output: False"
      ],
      "metadata": {
        "id": "MQ0dZ75ai-by"
      },
      "execution_count": null,
      "outputs": []
    }
  ]
}